{
  "nbformat": 4,
  "nbformat_minor": 0,
  "metadata": {
    "colab": {
      "provenance": [],
      "mount_file_id": "1v_iPEYByy4VSCF5PhGhLtur6GaAzrogK",
      "authorship_tag": "ABX9TyNYFAkNJ7aoOmGeUjjtXLZW",
      "include_colab_link": true
    },
    "kernelspec": {
      "name": "python3",
      "display_name": "Python 3"
    },
    "language_info": {
      "name": "python"
    }
  },
  "cells": [
    {
      "cell_type": "markdown",
      "metadata": {
        "id": "view-in-github",
        "colab_type": "text"
      },
      "source": [
        "<a href=\"https://colab.research.google.com/github/gacevedob/sql-analisis-gases-invernadero/blob/main/analisis_de_emisiones.ipynb\" target=\"_parent\"><img src=\"https://colab.research.google.com/assets/colab-badge.svg\" alt=\"Open In Colab\"/></a>"
      ]
    },
    {
      "cell_type": "markdown",
      "source": [
        "# **📊 Informe de análisis de emisiones de CO2 en la industria 🌍**\n",
        "\n",
        "En este análisis se utilizaron datos de la huella de carbono de productos de diferentes empresas obtenidos de nature.com 🌿. La tabla 'product_emissions' 📊 analiza las emisiones de gases de efecto invernadero atribuibles a un producto en especifico medidos en CO2 (dióxido de carbono equivalente) y se analizó la PCF por producto y etapa de producción en la que se produjeron las emisiones.\n",
        "\n",
        "Los datos utilizados en este análisis se encuentran disponibles en [nature.com](https://www.nature.com/articles/s41597-022-01178-9).\n",
        "\n",
        "### `product_emissions`\n",
        "\n",
        "| field                              | data_type |\n",
        "|------------------------------------|-----------|\n",
        "| id                                 | VARCHAR   |\n",
        "| year                               | INT       |\n",
        "| product_name                       | VARCHAR   |\n",
        "| company                            | VARCHAR   |\n",
        "| country                            | VARCHAR   |\n",
        "| industry_group                     | VARCHAR   |\n",
        "| weight_kg                          | NUMERIC   |\n",
        "| carbon_footprint_pcf               | NUMERIC   |\n",
        "| upstream_percent_total_pcf         | VARCHAR   |\n",
        "| operations_percent_total_pcf       | VARCHAR   |\n",
        "| downstream_percent_total_pcf       | VARCHAR   |\n",
        "\n",
        "Con los datos disponibles se busca dar respuesta a la pregunta se buscó responder a la pregunta **¿Qué industria tiene la mayor de emisiones de gases efecto invernadero?** 🔍\n",
        "\n",
        "💡 Se utilizó el lenguaje de programación **Python** con las librerías Pandas y **SQLite** para analizar los datos. Primero se leyeron los datos desde el archivo 'emisiones_por_industria.csv' y se creó una tabla 'emisiones_por_industria' en una base de datos SQLite. Posteriormente, se realizó una consulta SQL para obtener los datos relevantes. Se seleccionó la columna de 'industry_group' para agrupar las industrias, la columna de 'carbon_footprint_pcf' para sumar la huella de carbono de cada producto en las distintas industrias y la columna 'year' para seleccionar los datos del año 2017. La consulta se ordenó por la huella de carbono total de mayor a menor. 💻🐍"
      ],
      "metadata": {
        "id": "HJrawGvINVlQ"
      }
    },
    {
      "cell_type": "code",
      "source": [
        "import sqlite3\n",
        "import pandas as pd\n",
        "conn = sqlite3.connect('test.db')"
      ],
      "metadata": {
        "id": "XKkWczllRIDS"
      },
      "execution_count": null,
      "outputs": []
    },
    {
      "cell_type": "code",
      "source": [
        "df = pd.read_csv('/content/drive/MyDrive/Colab Notebooks/Portfolio/emisiones_por_industria.csv')\n",
        "df.columns = df.columns.str.strip()\n",
        "connection = sqlite3.connect('demo.db')\n",
        "df.to_sql('emisiones_por_industria', connection, if_exists='replace')"
      ],
      "metadata": {
        "id": "rEGgEWv9YQ3z"
      },
      "execution_count": null,
      "outputs": []
    },
    {
      "cell_type": "code",
      "source": [
        "%load_ext sql\n",
        "%sql sqlite:///demo.db"
      ],
      "metadata": {
        "colab": {
          "base_uri": "https://localhost:8080/",
          "height": 70
        },
        "id": "-70fZEcAZKXS",
        "outputId": "1308cdae-69ea-462d-dc01-6f5cc80a7e94"
      },
      "execution_count": null,
      "outputs": [
        {
          "output_type": "stream",
          "name": "stdout",
          "text": [
            "The sql extension is already loaded. To reload it, use:\n",
            "  %reload_ext sql\n"
          ]
        },
        {
          "output_type": "execute_result",
          "data": {
            "text/plain": [
              "'Connected: @demo.db'"
            ],
            "application/vnd.google.colaboratory.intrinsic+json": {
              "type": "string"
            }
          },
          "metadata": {},
          "execution_count": 46
        }
      ]
    },
    {
      "cell_type": "code",
      "source": [
        "%%sql\n",
        "\n",
        "SELECT *\n",
        "FROM emisiones_por_industria\n",
        "LIMIT 5"
      ],
      "metadata": {
        "colab": {
          "base_uri": "https://localhost:8080/",
          "height": 269
        },
        "id": "ufAh2JE-ZuNc",
        "outputId": "5737e774-e980-45e7-8a46-22f2ecf92cf7"
      },
      "execution_count": null,
      "outputs": [
        {
          "output_type": "stream",
          "name": "stdout",
          "text": [
            " * sqlite:///demo.db\n",
            "Done.\n"
          ]
        },
        {
          "output_type": "execute_result",
          "data": {
            "text/plain": [
              "[(0, '10056-1-2014', 2014, 'Frosted Flakes(R) Cereal', 'Kellogg Company', 'USA', '\"Food, Beverage & Tobacco\"', 0.7485, 2.0, '57.50%', '30.00%', '12.50%'),\n",
              " (1, '10056-1-2015', 2015, '\"Frosted Flakes, 23 oz, produced in Lancaster, PA (one carton)\"', 'Kellogg Company', 'USA', 'Food & Beverage Processing', 0.7485, 2.0, '57.50%', '30.00%', '12.50%'),\n",
              " (2, '10222-1-2013', 2013, 'Office Chair', 'KNOLL INC', 'USA', 'Capital Goods', 20.68, 72.54, '80.63%', '17.36%', '2.01%'),\n",
              " (3, '10261-1-2017', 2017, 'Multifunction Printers', '\"Konica Minolta, Inc.\"', 'Japan', 'Technology Hardware & Equipment', 110.0, 1488.0, '30.65%', '5.51%', '63.84%'),\n",
              " (4, '10261-2-2017', 2017, 'Multifunction Printers', '\"Konica Minolta, Inc.\"', 'Japan', 'Technology Hardware & Equipment', 110.0, 1818.0, '25.08%', '4.51%', '70.41%')]"
            ],
            "text/html": [
              "<table>\n",
              "    <thead>\n",
              "        <tr>\n",
              "            <th>index</th>\n",
              "            <th>id</th>\n",
              "            <th>year</th>\n",
              "            <th>product_name</th>\n",
              "            <th>company</th>\n",
              "            <th>country</th>\n",
              "            <th>industry_group</th>\n",
              "            <th>weight_kg</th>\n",
              "            <th>carbon_footprint_pcf</th>\n",
              "            <th>upstream_percent_total_pcf</th>\n",
              "            <th>operations_percent_total_pcf</th>\n",
              "            <th>downstream_percent_total_pcf</th>\n",
              "        </tr>\n",
              "    </thead>\n",
              "    <tbody>\n",
              "        <tr>\n",
              "            <td>0</td>\n",
              "            <td>10056-1-2014</td>\n",
              "            <td>2014</td>\n",
              "            <td>Frosted Flakes(R) Cereal</td>\n",
              "            <td>Kellogg Company</td>\n",
              "            <td>USA</td>\n",
              "            <td>&quot;Food, Beverage &amp; Tobacco&quot;</td>\n",
              "            <td>0.7485</td>\n",
              "            <td>2.0</td>\n",
              "            <td>57.50%</td>\n",
              "            <td>30.00%</td>\n",
              "            <td>12.50%</td>\n",
              "        </tr>\n",
              "        <tr>\n",
              "            <td>1</td>\n",
              "            <td>10056-1-2015</td>\n",
              "            <td>2015</td>\n",
              "            <td>&quot;Frosted Flakes, 23 oz, produced in Lancaster, PA (one carton)&quot;</td>\n",
              "            <td>Kellogg Company</td>\n",
              "            <td>USA</td>\n",
              "            <td>Food &amp; Beverage Processing</td>\n",
              "            <td>0.7485</td>\n",
              "            <td>2.0</td>\n",
              "            <td>57.50%</td>\n",
              "            <td>30.00%</td>\n",
              "            <td>12.50%</td>\n",
              "        </tr>\n",
              "        <tr>\n",
              "            <td>2</td>\n",
              "            <td>10222-1-2013</td>\n",
              "            <td>2013</td>\n",
              "            <td>Office Chair</td>\n",
              "            <td>KNOLL INC</td>\n",
              "            <td>USA</td>\n",
              "            <td>Capital Goods</td>\n",
              "            <td>20.68</td>\n",
              "            <td>72.54</td>\n",
              "            <td>80.63%</td>\n",
              "            <td>17.36%</td>\n",
              "            <td>2.01%</td>\n",
              "        </tr>\n",
              "        <tr>\n",
              "            <td>3</td>\n",
              "            <td>10261-1-2017</td>\n",
              "            <td>2017</td>\n",
              "            <td>Multifunction Printers</td>\n",
              "            <td>&quot;Konica Minolta, Inc.&quot;</td>\n",
              "            <td>Japan</td>\n",
              "            <td>Technology Hardware &amp; Equipment</td>\n",
              "            <td>110.0</td>\n",
              "            <td>1488.0</td>\n",
              "            <td>30.65%</td>\n",
              "            <td>5.51%</td>\n",
              "            <td>63.84%</td>\n",
              "        </tr>\n",
              "        <tr>\n",
              "            <td>4</td>\n",
              "            <td>10261-2-2017</td>\n",
              "            <td>2017</td>\n",
              "            <td>Multifunction Printers</td>\n",
              "            <td>&quot;Konica Minolta, Inc.&quot;</td>\n",
              "            <td>Japan</td>\n",
              "            <td>Technology Hardware &amp; Equipment</td>\n",
              "            <td>110.0</td>\n",
              "            <td>1818.0</td>\n",
              "            <td>25.08%</td>\n",
              "            <td>4.51%</td>\n",
              "            <td>70.41%</td>\n",
              "        </tr>\n",
              "    </tbody>\n",
              "</table>"
            ]
          },
          "metadata": {},
          "execution_count": 48
        }
      ]
    },
    {
      "cell_type": "code",
      "source": [
        "%%sql\n",
        "\n",
        "SELECT industry_group,\n",
        "        COUNT(*) AS count_industry,\n",
        "        ROUND(SUM(carbon_footprint_pcf),1) AS total_industry_footprint\n",
        "FROM emisiones_por_industria\n",
        "GROUP BY industry_group, year\n",
        "HAVING year=2017\n",
        "ORDER BY total_industry_footprint DESC;"
      ],
      "metadata": {
        "colab": {
          "base_uri": "https://localhost:8080/",
          "height": 203
        },
        "id": "sXRg92j0WRM_",
        "outputId": "39d6bac1-ae6d-45c4-de5e-0d05298d3761"
      },
      "execution_count": null,
      "outputs": [
        {
          "output_type": "stream",
          "name": "stdout",
          "text": [
            " * sqlite:///demo.db\n",
            "Done.\n"
          ]
        },
        {
          "output_type": "execute_result",
          "data": {
            "text/plain": [
              "[('Materials', 11, 107129.0),\n",
              " ('Capital Goods', 4, 94942.7),\n",
              " ('Technology Hardware & Equipment', 22, 21865.1),\n",
              " ('\"Food, Beverage & Tobacco\"', 22, 3161.5),\n",
              " ('Commercial & Professional Services', 2, 740.6),\n",
              " ('Software & Services', 1, 690.0)]"
            ],
            "text/html": [
              "<table>\n",
              "    <thead>\n",
              "        <tr>\n",
              "            <th>industry_group</th>\n",
              "            <th>count_industry</th>\n",
              "            <th>total_industry_footprint</th>\n",
              "        </tr>\n",
              "    </thead>\n",
              "    <tbody>\n",
              "        <tr>\n",
              "            <td>Materials</td>\n",
              "            <td>11</td>\n",
              "            <td>107129.0</td>\n",
              "        </tr>\n",
              "        <tr>\n",
              "            <td>Capital Goods</td>\n",
              "            <td>4</td>\n",
              "            <td>94942.7</td>\n",
              "        </tr>\n",
              "        <tr>\n",
              "            <td>Technology Hardware &amp; Equipment</td>\n",
              "            <td>22</td>\n",
              "            <td>21865.1</td>\n",
              "        </tr>\n",
              "        <tr>\n",
              "            <td>&quot;Food, Beverage &amp; Tobacco&quot;</td>\n",
              "            <td>22</td>\n",
              "            <td>3161.5</td>\n",
              "        </tr>\n",
              "        <tr>\n",
              "            <td>Commercial &amp; Professional Services</td>\n",
              "            <td>2</td>\n",
              "            <td>740.6</td>\n",
              "        </tr>\n",
              "        <tr>\n",
              "            <td>Software &amp; Services</td>\n",
              "            <td>1</td>\n",
              "            <td>690.0</td>\n",
              "        </tr>\n",
              "    </tbody>\n",
              "</table>"
            ]
          },
          "metadata": {},
          "execution_count": 49
        }
      ]
    },
    {
      "cell_type": "markdown",
      "source": [
        "Después de realizar la consulta en la base de datos, se encontró que la **industria de Materiales** 🏭 tuvo la **mayor cantidad de emisiones de CO2 en el año 2017** con un total de 107129.0 en carbon_footprint_pcf. Le sigue la industria de Capital Goods 🏢 con 94942.7, y Technology Hardware & Equipment 💻 con 21865.1. Las industrias de \"Food, Beverage & Tobacco\" 🍔, Commercial & Professional Services 💼 y Software & Services 🖥️ tuvieron menores emisiones en el año 2017.\n",
        "\n",
        "**Es importante destacar que este análisis solo se enfocó en los datos disponibles en la tabla 'product_emissions', por lo que podrían existir otras industrias con mayores emisiones si se consideran otras fuentes de información.** 🤔"
      ],
      "metadata": {
        "id": "CWdYkZ6TbKFY"
      }
    }
  ]
}